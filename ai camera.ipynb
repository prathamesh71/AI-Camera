{
 "cells": [
  {
   "cell_type": "code",
   "execution_count": 3,
   "id": "c34b4d03",
   "metadata": {},
   "outputs": [],
   "source": [
    "import cv2\n",
    "import mediapipe as mp"
   ]
  },
  {
   "cell_type": "code",
   "execution_count": 4,
   "id": "1591bd6d",
   "metadata": {},
   "outputs": [],
   "source": [
    "mphands=mp.solutions.hands\n",
    "hands=mphands.Hands()\n",
    "mpDraw=mp.solutions.drawing_utils\n",
    "face_cascade = cv2.CascadeClassifier('haarcascade_frontalface_alt.xml')"
   ]
  },
  {
   "cell_type": "code",
   "execution_count": 5,
   "id": "cdd02824",
   "metadata": {},
   "outputs": [],
   "source": [
    "def facedata(image):\n",
    "    fwidth=0\n",
    "    gray=cv2.cvtColor(image,cv2.COLOR_BGR2GRAY)\n",
    "    face=face_cascade.detectMultiScale(gray)\n",
    "    wid=[]\n",
    "    for x,y,w,h in face:\n",
    "        cv2.rectangle(image,(x,y),(x+w,y+h),(0,255,0),2)\n",
    "        wid.append(w)\n",
    "        fwidth=max(wid)\n",
    "    return fwidth                             #calculation pixel face width from ref image"
   ]
  },
  {
   "cell_type": "code",
   "execution_count": 6,
   "id": "db6fc813",
   "metadata": {},
   "outputs": [],
   "source": [
    "kd=65  #real distance from camera to face in cm\n",
    "rw=15  #real face width"
   ]
  },
  {
   "cell_type": "code",
   "execution_count": 7,
   "id": "9704aa6c",
   "metadata": {},
   "outputs": [],
   "source": [
    "def focal(facew,kdist,rwidth):\n",
    "    focal=facew*kdist/rwidth\n",
    "    return focal          #focal length used to calculate real time distance    "
   ]
  },
  {
   "cell_type": "code",
   "execution_count": 8,
   "id": "c194a17e",
   "metadata": {},
   "outputs": [],
   "source": [
    "def distance(f,facew,rwidth):                   #Real time distance calculation\n",
    "    distance=rwidth*f/facew\n",
    "    return distance"
   ]
  },
  {
   "cell_type": "code",
   "execution_count": 9,
   "id": "5a5e7bf3",
   "metadata": {},
   "outputs": [],
   "source": [
    "reffwidth=361\n",
    "focallength=1564.33"
   ]
  },
  {
   "cell_type": "code",
   "execution_count": 10,
   "id": "6309f6a7",
   "metadata": {},
   "outputs": [],
   "source": [
    "# refimg=cv2.imread('ref.jpg')\n",
    "# reffwidth=facedata(refimg)\n",
    "# focallength=focal(reffwidth,kd,rw)\n",
    "# print(reffwidth)\n",
    "# print(focallength)"
   ]
  },
  {
   "cell_type": "code",
   "execution_count": null,
   "id": "7b609a30",
   "metadata": {},
   "outputs": [],
   "source": []
  },
  {
   "cell_type": "code",
   "execution_count": 11,
   "id": "9207f011",
   "metadata": {},
   "outputs": [],
   "source": [
    "def main():    #main camera without any modes. m for manual selfie mode. a for auto selfie mode. p for pose detection mode\n",
    "    a=0          #escape for exit\n",
    "    m=0\n",
    "    p=0\n",
    "    f=0\n",
    "    while True:\n",
    "        pressedKey = cv2.waitKey(1) & 0xFF\n",
    "        flag,frame=cap.read()\n",
    "        frame=cv2.flip(frame,5)\n",
    "        if pressedKey == ord('m'):\n",
    "            m=m+1\n",
    "            break\n",
    "        if pressedKey == ord('a'):\n",
    "            a=a+1\n",
    "            break\n",
    "        if pressedKey == 27:\n",
    "            break\n",
    "        if pressedKey==ord('p'):\n",
    "            p=p+1\n",
    "            break\n",
    "        if pressedKey==ord('f'):\n",
    "            f=f+1\n",
    "            break\n",
    "        cv2.imshow('cam',frame)\n",
    "    if m>0:\n",
    "        return mselfie()\n",
    "    elif a>0:\n",
    "        return aselfie()\n",
    "    elif p>0:\n",
    "        return pose()\n",
    "    elif f>0:\n",
    "        return filtr()\n",
    "    else:\n",
    "        cap.release()\n",
    "        cv2.destroyAllWindows()"
   ]
  },
  {
   "cell_type": "code",
   "execution_count": 12,
   "id": "ae21101f",
   "metadata": {},
   "outputs": [],
   "source": [
    "def mselfie():          #if distance less than 100 cm press s for snapshot\n",
    "    while True:\n",
    "        pressedKey = cv2.waitKey(1) & 0xFF\n",
    "        flag,frame=cap.read()\n",
    "        frame=cv2.flip(frame,5)\n",
    "        framergb=cv2.cvtColor(frame,cv2.COLOR_BGR2RGB)\n",
    "        facewidth=facedata(framergb)\n",
    "        if facewidth!=0:\n",
    "            Distance=distance(focallength,facewidth,rw)\n",
    "            cv2.putText(frame, f\"Distance: {round(Distance,2)} CM\", (30, 35), cv2.FONT_HERSHEY_COMPLEX, 0.6, (0,255,0), 2)\n",
    "        if Distance>100.00:\n",
    "            cv2.putText(frame, 'please get close to camera', (30, 100), cv2.FONT_HERSHEY_COMPLEX, 0.6, (0,255,0), 2)\n",
    "        if Distance<100.00:\n",
    "            cv2.putText(frame, 'Press s for snapshot', (30, 100), cv2.FONT_HERSHEY_COMPLEX, 0.6, (0,255,0), 2)\n",
    "            if pressedKey == ord('s'):\n",
    "                cv2.imwrite('img1.jpg',frame)\n",
    "        if pressedKey == ord('x'):\n",
    "            break\n",
    "        cv2.imshow('cam',frame)\n",
    "    return main() "
   ]
  },
  {
   "cell_type": "code",
   "execution_count": 13,
   "id": "630151b0",
   "metadata": {},
   "outputs": [],
   "source": [
    "def aselfie():              #same as above but automatic process\n",
    "    while True:\n",
    "        pressedKey = cv2.waitKey(1) & 0xFF\n",
    "        flag,frame=cap.read()\n",
    "        frame=cv2.flip(frame,5)\n",
    "        framergb=cv2.cvtColor(frame,cv2.COLOR_BGR2RGB)\n",
    "        facewidth=facedata(framergb)\n",
    "        if facewidth!=0:\n",
    "            Distance=distance(focallength,facewidth,rw)\n",
    "            cv2.putText(frame, f\"Distance: {round(Distance,2)} CM\", (30, 35), cv2.FONT_HERSHEY_COMPLEX, 0.6, (0,255,0), 2)\n",
    "        if Distance>100.00:\n",
    "            cv2.putText(frame, 'please get close to camera', (30, 100), cv2.FONT_HERSHEY_COMPLEX, 0.6, (0,255,0), 2)\n",
    "        if Distance<100.00:\n",
    "                cv2.imwrite('img1.jpg',frame)\n",
    "                break\n",
    "        if pressedKey == ord('x'):\n",
    "            break\n",
    "        cv2.imshow('cam',frame)\n",
    "    return main() "
   ]
  },
  {
   "cell_type": "code",
   "execution_count": 14,
   "id": "78baf0d4",
   "metadata": {},
   "outputs": [],
   "source": [
    "def pose():             #make peace pose and press p for snapshot and make yo pose and press y for snapshot\n",
    "    while True:\n",
    "        pressedKey = cv2.waitKey(1) & 0xFF\n",
    "        flag,frame=cap.read()\n",
    "        frame=cv2.flip(frame,5)\n",
    "        framergb=cv2.cvtColor(frame,cv2.COLOR_BGR2RGB)\n",
    "        results=hands.process(framergb)\n",
    "        p=[0,0,0,0,0]\n",
    "        f=[]\n",
    "        if results.multi_hand_landmarks:\n",
    "            for handlandmark in results.multi_hand_landmarks:\n",
    "                mpDraw.draw_landmarks(frame,handlandmark,mphands.HAND_CONNECTIONS)\n",
    "                for i in handlandmark.landmark:\n",
    "                    f.append(i)\n",
    "            if f[8].y<f[6].y:\n",
    "                p[1]=1\n",
    "            if f[12].y<f[10].y:\n",
    "                p[2]=1\n",
    "            if f[20].y<f[18].y:\n",
    "                p[4]=1\n",
    "            if p[1]==1 & p[2]==1:\n",
    "                if pressedKey == ord('p'):\n",
    "                    cv2.imwrite('peace.jpg',frame)\n",
    "            elif p[1]==1 & p[4]==1:\n",
    "                if pressedKey == ord('y'):\n",
    "                    cv2.imwrite('yo.jpg',frame)\n",
    "        if pressedKey == ord('x'):\n",
    "            break\n",
    "        cv2.putText(frame, 'pose', (30, 35), cv2.FONT_HERSHEY_COMPLEX, 0.6, (0,255,0), 2)\n",
    "        cv2.imshow('cam',frame)\n",
    "\n",
    "    return main()"
   ]
  },
  {
   "cell_type": "code",
   "execution_count": 15,
   "id": "e4d7591e",
   "metadata": {},
   "outputs": [],
   "source": [
    "def filtr():\n",
    "    face_cascade= cv2.CascadeClassifier('haarcascade_frontalface_alt.xml')\n",
    "    while True:\n",
    "        pressedKey = cv2.waitKey(1) & 0xFF\n",
    "        flag,frame = cap.read()\n",
    "        frame=cv2.flip(frame,5)\n",
    "        #cv2.imshow('main frame',frame)\n",
    "        #hsv=cv2.cvtColor(frame,cv2.COLOR_BGR2HSV)\n",
    "        detected_face=[]\n",
    "        blurred_frame=cv2.GaussianBlur(frame,(25,25),0)\n",
    "        faces = face_cascade.detectMultiScale(frame, 1.3, 5)\n",
    "        if len(faces)==0:\n",
    "            cv2.putText(blurred_frame, 'please look into camera', (30, 35), cv2.FONT_HERSHEY_COMPLEX, 0.6, (0,255,0), 2)\n",
    "        for x, y, w, h in faces:\n",
    "            detected_face = frame[int(y):int(y+h), int(x):int(x+w)]\n",
    "            blurred_frame[y:y+h, x:x+w] = detected_face\n",
    "            cv2.putText(blurred_frame, 'Press b to capture portrait image', (30, 35), cv2.FONT_HERSHEY_COMPLEX, 0.6, (0,255,0), 2)\n",
    "            if pressedKey == ord('b'):\n",
    "                cv2.imwrite('Blur.jpg',blurred_frame)\n",
    "        cv2.imshow('cam',blurred_frame)\n",
    "        print(detected_face)\n",
    "\n",
    "        if cv2.waitKey(1) == ord('x'):\n",
    "            break\n",
    "\n",
    "    return main()"
   ]
  },
  {
   "cell_type": "code",
   "execution_count": 16,
   "id": "9543ee4f",
   "metadata": {
    "scrolled": true
   },
   "outputs": [],
   "source": [
    "cap=cv2.VideoCapture(0)\n",
    "main()              #code for starting the camera"
   ]
  },
  {
   "cell_type": "code",
   "execution_count": null,
   "id": "a1402f89",
   "metadata": {},
   "outputs": [],
   "source": []
  }
 ],
 "metadata": {
  "kernelspec": {
   "display_name": "Python 3 (ipykernel)",
   "language": "python",
   "name": "python3"
  },
  "language_info": {
   "codemirror_mode": {
    "name": "ipython",
    "version": 3
   },
   "file_extension": ".py",
   "mimetype": "text/x-python",
   "name": "python",
   "nbconvert_exporter": "python",
   "pygments_lexer": "ipython3",
   "version": "3.10.2"
  }
 },
 "nbformat": 4,
 "nbformat_minor": 5
}
